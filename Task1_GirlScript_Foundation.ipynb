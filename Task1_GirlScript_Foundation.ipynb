{
  "nbformat": 4,
  "nbformat_minor": 0,
  "metadata": {
    "colab": {
      "name": "Task1_GirlScript_Foundation.ipynb",
      "provenance": [],
      "collapsed_sections": [],
      "toc_visible": true
    },
    "kernelspec": {
      "name": "python3",
      "display_name": "Python 3"
    },
    "language_info": {
      "name": "python"
    }
  },
  "cells": [
    {
      "cell_type": "markdown",
      "metadata": {
        "id": "nq6_AcU94St5"
      },
      "source": [
        "## **Task1 : GirlScript Foundation**"
      ]
    },
    {
      "cell_type": "markdown",
      "metadata": {
        "id": "MuWY5I8d4eMi"
      },
      "source": [
        "# ***Author : Rahul Kale***"
      ]
    },
    {
      "cell_type": "markdown",
      "metadata": {
        "id": "5Kkf4bkE4yRK"
      },
      "source": [
        "***1) Python Program to use all Arithmatic Operators.***"
      ]
    },
    {
      "cell_type": "code",
      "metadata": {
        "colab": {
          "base_uri": "https://localhost:8080/"
        },
        "id": "9geNVoTA4IAf",
        "outputId": "0b7b4184-a6b7-4927-eecd-8d8a329a3927"
      },
      "source": [
        "# Addition\n",
        "a = 88\n",
        "b = 10\n",
        "c = a+b\n",
        "print(c)"
      ],
      "execution_count": null,
      "outputs": [
        {
          "output_type": "stream",
          "text": [
            "98\n"
          ],
          "name": "stdout"
        }
      ]
    },
    {
      "cell_type": "code",
      "metadata": {
        "colab": {
          "base_uri": "https://localhost:8080/"
        },
        "id": "59QxECKj3bXx",
        "outputId": "331d3faf-2ac0-4e31-b856-0a6e64b13cc0"
      },
      "source": [
        "# Subtraction\n",
        "a = 45\n",
        "b = 23\n",
        "print(a-b)"
      ],
      "execution_count": null,
      "outputs": [
        {
          "output_type": "stream",
          "text": [
            "22\n"
          ],
          "name": "stdout"
        }
      ]
    },
    {
      "cell_type": "code",
      "metadata": {
        "colab": {
          "base_uri": "https://localhost:8080/"
        },
        "id": "4BY5Jdnv6YkQ",
        "outputId": "1ff9fc7a-ef26-4e3d-e8b6-824df11d33c1"
      },
      "source": [
        "# Multiplication\n",
        "a = 24\n",
        "b = 19\n",
        "print(a*b)"
      ],
      "execution_count": null,
      "outputs": [
        {
          "output_type": "stream",
          "text": [
            "456\n"
          ],
          "name": "stdout"
        }
      ]
    },
    {
      "cell_type": "code",
      "metadata": {
        "colab": {
          "base_uri": "https://localhost:8080/"
        },
        "id": "-fn3ScLD6nDl",
        "outputId": "6e62e433-0cd7-4347-8416-98c834b9b3d3"
      },
      "source": [
        "# Division\n",
        "a = 64\n",
        "b = 4\n",
        "print(a/b)"
      ],
      "execution_count": null,
      "outputs": [
        {
          "output_type": "stream",
          "text": [
            "16.0\n"
          ],
          "name": "stdout"
        }
      ]
    },
    {
      "cell_type": "code",
      "metadata": {
        "colab": {
          "base_uri": "https://localhost:8080/"
        },
        "id": "JLG5nXKs7IUl",
        "outputId": "ce2a28cf-b75b-4f22-f0d9-3cbfaddb3bab"
      },
      "source": [
        "# Modulus\n",
        "a = 21\n",
        "b = 2\n",
        "print(a % b)"
      ],
      "execution_count": null,
      "outputs": [
        {
          "output_type": "stream",
          "text": [
            "1\n"
          ],
          "name": "stdout"
        }
      ]
    },
    {
      "cell_type": "code",
      "metadata": {
        "id": "ysJClRMX7u_C",
        "colab": {
          "base_uri": "https://localhost:8080/"
        },
        "outputId": "0146ba89-e8c2-4078-a148-d275098cb8e0"
      },
      "source": [
        "# Quotient\n",
        "a = 48\n",
        "b = 5\n",
        "print(a//b)"
      ],
      "execution_count": null,
      "outputs": [
        {
          "output_type": "stream",
          "text": [
            "9\n"
          ],
          "name": "stdout"
        }
      ]
    },
    {
      "cell_type": "code",
      "metadata": {
        "colab": {
          "base_uri": "https://localhost:8080/"
        },
        "id": "uIgrxXlr_cZ8",
        "outputId": "ed121893-acfd-43bb-e52b-875e8e27a917"
      },
      "source": [
        "# Exponent\n",
        "a = 8\n",
        "b = 3\n",
        "print(a**b)"
      ],
      "execution_count": null,
      "outputs": [
        {
          "output_type": "stream",
          "text": [
            "512\n"
          ],
          "name": "stdout"
        }
      ]
    },
    {
      "cell_type": "markdown",
      "metadata": {
        "id": "AcSFuUUw_386"
      },
      "source": [
        "***2) Python Program to use all Assignment Operators.***"
      ]
    },
    {
      "cell_type": "code",
      "metadata": {
        "colab": {
          "base_uri": "https://localhost:8080/"
        },
        "id": "NlrdEegk_uRs",
        "outputId": "fe720cd0-5032-4941-bff9-8eb3b8bc12ee"
      },
      "source": [
        "a = 88\n",
        "a += 10\n",
        "print(a)"
      ],
      "execution_count": null,
      "outputs": [
        {
          "output_type": "stream",
          "text": [
            "98\n"
          ],
          "name": "stdout"
        }
      ]
    },
    {
      "cell_type": "code",
      "metadata": {
        "colab": {
          "base_uri": "https://localhost:8080/"
        },
        "id": "hJOYel3kA9xJ",
        "outputId": "016055c6-22c9-4cdc-e047-c73199bdc393"
      },
      "source": [
        "a = 88\n",
        "a -= 10\n",
        "print(a)"
      ],
      "execution_count": null,
      "outputs": [
        {
          "output_type": "stream",
          "text": [
            "78\n"
          ],
          "name": "stdout"
        }
      ]
    },
    {
      "cell_type": "code",
      "metadata": {
        "colab": {
          "base_uri": "https://localhost:8080/"
        },
        "id": "5XWWP40jBe4I",
        "outputId": "955b6b73-3f65-433b-9224-b2fbd2bb0ba1"
      },
      "source": [
        "a = 88\n",
        "a *= 10\n",
        "print(a)"
      ],
      "execution_count": null,
      "outputs": [
        {
          "output_type": "stream",
          "text": [
            "880\n"
          ],
          "name": "stdout"
        }
      ]
    },
    {
      "cell_type": "code",
      "metadata": {
        "colab": {
          "base_uri": "https://localhost:8080/"
        },
        "id": "sVe6awAhBprh",
        "outputId": "4a271c01-78f0-42bb-a853-5530d30d14db"
      },
      "source": [
        "a = 88\n",
        "a /= 10\n",
        "print(a)"
      ],
      "execution_count": null,
      "outputs": [
        {
          "output_type": "stream",
          "text": [
            "8.8\n"
          ],
          "name": "stdout"
        }
      ]
    },
    {
      "cell_type": "code",
      "metadata": {
        "colab": {
          "base_uri": "https://localhost:8080/"
        },
        "id": "kzDhL7NRBrn_",
        "outputId": "9edd90ba-4107-453b-d72f-c48c9eda0f66"
      },
      "source": [
        "a = 95\n",
        "a %= 10\n",
        "print(a)"
      ],
      "execution_count": null,
      "outputs": [
        {
          "output_type": "stream",
          "text": [
            "5\n"
          ],
          "name": "stdout"
        }
      ]
    },
    {
      "cell_type": "code",
      "metadata": {
        "colab": {
          "base_uri": "https://localhost:8080/"
        },
        "id": "YBQiioqQBxZ5",
        "outputId": "275db399-3d18-4e01-a322-80e26279c2b2"
      },
      "source": [
        "a = 88\n",
        "a //= 10\n",
        "print(a)"
      ],
      "execution_count": null,
      "outputs": [
        {
          "output_type": "stream",
          "text": [
            "8\n"
          ],
          "name": "stdout"
        }
      ]
    },
    {
      "cell_type": "code",
      "metadata": {
        "colab": {
          "base_uri": "https://localhost:8080/"
        },
        "id": "24_xurgiB_go",
        "outputId": "2c382251-2ced-4fa3-9b63-3b5dc2e76717"
      },
      "source": [
        "a = 4\n",
        "a **= 3\n",
        "print(a)"
      ],
      "execution_count": null,
      "outputs": [
        {
          "output_type": "stream",
          "text": [
            "64\n"
          ],
          "name": "stdout"
        }
      ]
    },
    {
      "cell_type": "markdown",
      "metadata": {
        "id": "iOMazlcZCMzY"
      },
      "source": [
        "***3) Python Program to use all Comparison Operators.***"
      ]
    },
    {
      "cell_type": "code",
      "metadata": {
        "colab": {
          "base_uri": "https://localhost:8080/"
        },
        "id": "Mb94W3xUCDv3",
        "outputId": "ee19acc8-84a8-4052-c773-70c5e3d9142b"
      },
      "source": [
        "# Equal to\n",
        "a = 8\n",
        "print(a == 8)"
      ],
      "execution_count": null,
      "outputs": [
        {
          "output_type": "stream",
          "text": [
            "True\n"
          ],
          "name": "stdout"
        }
      ]
    },
    {
      "cell_type": "code",
      "metadata": {
        "colab": {
          "base_uri": "https://localhost:8080/"
        },
        "id": "MbG9bO8ZC0Ie",
        "outputId": "2a0450ae-78be-44dd-b83f-27a2accecf09"
      },
      "source": [
        "# Equal to\n",
        "a = 56\n",
        "print(a == 6)"
      ],
      "execution_count": null,
      "outputs": [
        {
          "output_type": "stream",
          "text": [
            "False\n"
          ],
          "name": "stdout"
        }
      ]
    },
    {
      "cell_type": "code",
      "metadata": {
        "colab": {
          "base_uri": "https://localhost:8080/"
        },
        "id": "Xw18Rot2DJG3",
        "outputId": "f52137c9-cea0-4859-bdd0-f849a97d3396"
      },
      "source": [
        "# Not Equal to\n",
        "a = 8\n",
        "print(a != 6)"
      ],
      "execution_count": null,
      "outputs": [
        {
          "output_type": "stream",
          "text": [
            "True\n"
          ],
          "name": "stdout"
        }
      ]
    },
    {
      "cell_type": "code",
      "metadata": {
        "colab": {
          "base_uri": "https://localhost:8080/"
        },
        "id": "mc35MPKNDZgN",
        "outputId": "f82b3dea-cdb1-4ca4-c9c2-4a6697cd1641"
      },
      "source": [
        "# Greater than \n",
        "a = 12\n",
        "b = 28\n",
        "if a>b:\n",
        "  print(\"a is greater than b\", a)\n",
        "else:\n",
        "  print(\"b is greater than a\", b)\n"
      ],
      "execution_count": 89,
      "outputs": [
        {
          "output_type": "stream",
          "text": [
            "b is greater than a 28\n"
          ],
          "name": "stdout"
        }
      ]
    },
    {
      "cell_type": "code",
      "metadata": {
        "colab": {
          "base_uri": "https://localhost:8080/"
        },
        "id": "cfPhK3xSFR6a",
        "outputId": "a167c7b2-d06b-412b-8ce2-a7bc9312bbb8"
      },
      "source": [
        "# Less than \n",
        "a = 34\n",
        "b = 15\n",
        "if a<b:\n",
        "  print(\"a is less than b\", a)\n",
        "else:\n",
        "  print(\"b is less than a\", b)"
      ],
      "execution_count": null,
      "outputs": [
        {
          "output_type": "stream",
          "text": [
            "b is less than a 15\n"
          ],
          "name": "stdout"
        }
      ]
    },
    {
      "cell_type": "code",
      "metadata": {
        "colab": {
          "base_uri": "https://localhost:8080/"
        },
        "id": "AWMYT05wHL4o",
        "outputId": "564672d9-bf82-4462-a2dd-c5561d3c14f3"
      },
      "source": [
        "a = 34\n",
        "b = 15\n",
        "print(a>=b)"
      ],
      "execution_count": 90,
      "outputs": [
        {
          "output_type": "stream",
          "text": [
            "True\n"
          ],
          "name": "stdout"
        }
      ]
    },
    {
      "cell_type": "code",
      "metadata": {
        "colab": {
          "base_uri": "https://localhost:8080/"
        },
        "id": "vKiXI4pbHY4l",
        "outputId": "6d7be36f-5388-4ffe-a9f1-f8d8e1e614e5"
      },
      "source": [
        "a = 34\n",
        "b = 15\n",
        "print(a<=b)"
      ],
      "execution_count": 91,
      "outputs": [
        {
          "output_type": "stream",
          "text": [
            "False\n"
          ],
          "name": "stdout"
        }
      ]
    },
    {
      "cell_type": "code",
      "metadata": {
        "colab": {
          "base_uri": "https://localhost:8080/"
        },
        "id": "sxH2uFw5He8Y",
        "outputId": "722dba60-589b-4c12-d314-ad48fe94e798"
      },
      "source": [
        "a = 4\n",
        "b = 14\n",
        "print(a>=b)\n"
      ],
      "execution_count": null,
      "outputs": [
        {
          "output_type": "stream",
          "text": [
            "False\n"
          ],
          "name": "stdout"
        }
      ]
    },
    {
      "cell_type": "code",
      "metadata": {
        "colab": {
          "base_uri": "https://localhost:8080/"
        },
        "id": "d7lMGLIFHk-9",
        "outputId": "4bddda04-84f4-423c-9364-9f1c0f3dede3"
      },
      "source": [
        "a = 34\n",
        "b = 54\n",
        "print(a<=b)"
      ],
      "execution_count": null,
      "outputs": [
        {
          "output_type": "stream",
          "text": [
            "True\n"
          ],
          "name": "stdout"
        }
      ]
    },
    {
      "cell_type": "markdown",
      "metadata": {
        "id": "MwwcFpMjIX_i"
      },
      "source": [
        "***4) Python Program to use all Identity Operators.***"
      ]
    },
    {
      "cell_type": "code",
      "metadata": {
        "colab": {
          "base_uri": "https://localhost:8080/"
        },
        "id": "sW_9gugvIpbh",
        "outputId": "b50bdd1d-d219-4f0c-9aad-5f5d11537d6d"
      },
      "source": [
        "a = \"python\"\n",
        "a = b\n",
        "print(a is b)"
      ],
      "execution_count": null,
      "outputs": [
        {
          "output_type": "stream",
          "text": [
            "True\n"
          ],
          "name": "stdout"
        }
      ]
    },
    {
      "cell_type": "code",
      "metadata": {
        "colab": {
          "base_uri": "https://localhost:8080/"
        },
        "id": "ET3E8F_DJari",
        "outputId": "ffcf2f02-1b9a-414d-a55b-cb5eeb2710ce"
      },
      "source": [
        "a = \"python\"\n",
        "a = b\n",
        "print(a is not b)"
      ],
      "execution_count": null,
      "outputs": [
        {
          "output_type": "stream",
          "text": [
            "False\n"
          ],
          "name": "stdout"
        }
      ]
    },
    {
      "cell_type": "markdown",
      "metadata": {
        "id": "M2wCh2uDJooO"
      },
      "source": [
        "***5) Python Program to use all Membership Operators.***"
      ]
    },
    {
      "cell_type": "code",
      "metadata": {
        "id": "fpj7YG1zJ3vm",
        "colab": {
          "base_uri": "https://localhost:8080/"
        },
        "outputId": "6132cbd4-6441-4b7b-edd5-7a312fd8dbd1"
      },
      "source": [
        "r = \"tableau\"\n",
        "print(\"tableau\" in r)"
      ],
      "execution_count": null,
      "outputs": [
        {
          "output_type": "stream",
          "text": [
            "True\n"
          ],
          "name": "stdout"
        }
      ]
    },
    {
      "cell_type": "code",
      "metadata": {
        "colab": {
          "base_uri": "https://localhost:8080/"
        },
        "id": "dPY2I6ekKg5i",
        "outputId": "79bdec1f-1e84-4936-9274-ed50c5b99ca0"
      },
      "source": [
        "r = \"tableau\"\n",
        "print(\"python\" not in r)"
      ],
      "execution_count": null,
      "outputs": [
        {
          "output_type": "stream",
          "text": [
            "True\n"
          ],
          "name": "stdout"
        }
      ]
    },
    {
      "cell_type": "markdown",
      "metadata": {
        "id": "S-lrEapDLVO7"
      },
      "source": [
        "***6) Python Program to find maximum of two numbers.***"
      ]
    },
    {
      "cell_type": "code",
      "metadata": {
        "colab": {
          "base_uri": "https://localhost:8080/"
        },
        "id": "lCky4ft_LzGo",
        "outputId": "bb4836ea-7543-455a-aa49-8dc5b8999fe0"
      },
      "source": [
        "a = 45\n",
        "b = 64\n",
        "print(max(a,b))"
      ],
      "execution_count": null,
      "outputs": [
        {
          "output_type": "stream",
          "text": [
            "64\n"
          ],
          "name": "stdout"
        }
      ]
    },
    {
      "cell_type": "markdown",
      "metadata": {
        "id": "cHuRVfV4MvM0"
      },
      "source": [
        "***7) Python Program for Simple Interest.***"
      ]
    },
    {
      "cell_type": "code",
      "metadata": {
        "colab": {
          "base_uri": "https://localhost:8080/"
        },
        "id": "yQkg9FmmM33b",
        "outputId": "9c6becef-44e5-40f5-960b-511978ec4f5f"
      },
      "source": [
        "# Method-1\n",
        "P = 1000  \n",
        "R = 5\n",
        "T = 2\n",
        "# SI = Simple Interest\n",
        "SI = (P*R*T)/100\n",
        "print(SI)"
      ],
      "execution_count": null,
      "outputs": [
        {
          "output_type": "stream",
          "text": [
            "100.0\n"
          ],
          "name": "stdout"
        }
      ]
    },
    {
      "cell_type": "code",
      "metadata": {
        "colab": {
          "base_uri": "https://localhost:8080/"
        },
        "id": "uZs3U0FsOLXw",
        "outputId": "bcf74c09-cec6-489f-9e6c-eeaef48857af"
      },
      "source": [
        "# Method-2\n",
        "P = int(input(\"Enter the value of P\"))\n",
        "R = int(input(\"Enter the value of R\"))\n",
        "T = int(input(\"Enter the value of T\"))\n",
        "SI = (P*R*T)/100\n",
        "print(SI)"
      ],
      "execution_count": null,
      "outputs": [
        {
          "output_type": "stream",
          "text": [
            "Enter the value of P2000\n",
            "Enter the value of R8\n",
            "Enter the value of T4\n",
            "640.0\n"
          ],
          "name": "stdout"
        }
      ]
    },
    {
      "cell_type": "code",
      "metadata": {
        "colab": {
          "base_uri": "https://localhost:8080/"
        },
        "id": "9sLAsjY1OhgP",
        "outputId": "2cc39abf-80ac-4b81-f3cf-e88d636a2932"
      },
      "source": [
        "P = 1000  \n",
        "R = 5\n",
        "T = 2\n",
        "# CI = Compound Interest\n",
        "CI =  P * (pow((1 + R / 100), T))\n",
        "print(CI)"
      ],
      "execution_count": null,
      "outputs": [
        {
          "output_type": "stream",
          "text": [
            "1102.5\n"
          ],
          "name": "stdout"
        }
      ]
    },
    {
      "cell_type": "markdown",
      "metadata": {
        "id": "vvIb62NNQ7nd"
      },
      "source": [
        "***8) Python Program to find area of circle.***"
      ]
    },
    {
      "cell_type": "code",
      "metadata": {
        "colab": {
          "base_uri": "https://localhost:8080/"
        },
        "id": "qeatLGfBRK9U",
        "outputId": "7201fa71-fa29-4286-e8d0-43fcefb42aa4"
      },
      "source": [
        "import math\n",
        "R = float(input('Enter the radius of the circle :'))\n",
        "area = math.pi * R * R\n",
        "print(\"Area of the circle is : %.2f\" %area)"
      ],
      "execution_count": null,
      "outputs": [
        {
          "output_type": "stream",
          "text": [
            "Enter the radius of the circle :20\n",
            "Area of the circle is : 1256.64\n"
          ],
          "name": "stdout"
        }
      ]
    },
    {
      "cell_type": "code",
      "metadata": {
        "id": "stvxEH2-RYIo"
      },
      "source": [
        ""
      ],
      "execution_count": null,
      "outputs": []
    },
    {
      "cell_type": "markdown",
      "metadata": {
        "id": "DK33Y6FXR7a1"
      },
      "source": [
        "***9) Python Program for Implicit and Explicit type Conversion***"
      ]
    },
    {
      "cell_type": "code",
      "metadata": {
        "colab": {
          "base_uri": "https://localhost:8080/"
        },
        "id": "IXtMD528TyQx",
        "outputId": "e61357f2-c630-4eaf-9495-fb2777871a7a"
      },
      "source": [
        "# Implicit type Converison\n",
        "impli_int = 68\n",
        "impli_float = 2.3\n",
        "impli_add = impli_int + impli_float\n",
        "print(impli_add)\n",
        "print(type(impli_add))\n"
      ],
      "execution_count": 85,
      "outputs": [
        {
          "output_type": "stream",
          "text": [
            "70.3\n",
            "<class 'float'>\n"
          ],
          "name": "stdout"
        }
      ]
    },
    {
      "cell_type": "code",
      "metadata": {
        "colab": {
          "base_uri": "https://localhost:8080/"
        },
        "id": "F9-w2R_QUTID",
        "outputId": "04e10c78-a5dd-4d50-a832-b0c24d3cb5e2"
      },
      "source": [
        "# Explicit type Conversion\n",
        "expli_str = \"578\"\n",
        "expli_int = 5\n",
        "expli_str = int(expli_str)\n",
        "expli_add = expli_str + expli_int\n",
        "print(expli_add)\n",
        "print(type(expli_add))"
      ],
      "execution_count": 88,
      "outputs": [
        {
          "output_type": "stream",
          "text": [
            "583\n",
            "<class 'int'>\n"
          ],
          "name": "stdout"
        }
      ]
    },
    {
      "cell_type": "markdown",
      "metadata": {
        "id": "fJ0-A5I_cFbz"
      },
      "source": [
        "### **!! Thank You !!**"
      ]
    }
  ]
}